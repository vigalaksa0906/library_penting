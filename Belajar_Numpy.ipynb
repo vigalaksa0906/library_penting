{
  "cells": [
    {
      "attachments": {},
      "cell_type": "markdown",
      "metadata": {
        "id": "dStP2E75LpNw"
      },
      "source": [
        "# PART 1: NP ARRAY, ARANGE, ZEROS, ONES, LINSPACE, IDENTITY"
      ]
    },
    {
      "cell_type": "code",
      "execution_count": 1,
      "metadata": {
        "id": "bT3UEg4dFapS"
      },
      "outputs": [],
      "source": [
        "import numpy as np"
      ]
    },
    {
      "cell_type": "code",
      "execution_count": null,
      "metadata": {
        "id": "X6guqN5PL31A"
      },
      "outputs": [],
      "source": []
    },
    {
      "cell_type": "code",
      "execution_count": 2,
      "metadata": {
        "colab": {
          "base_uri": "https://localhost:8080/"
        },
        "id": "h09O5WL0Fiao",
        "outputId": "03310c41-daf2-40d9-e5ff-cd20395dcf5e"
      },
      "outputs": [
        {
          "name": "stdout",
          "output_type": "stream",
          "text": [
            "<class 'numpy.ndarray'>\n"
          ]
        },
        {
          "data": {
            "text/plain": [
              "array([3, 6, 9])"
            ]
          },
          "execution_count": 2,
          "metadata": {},
          "output_type": "execute_result"
        }
      ],
      "source": [
        "angka = [1,2,3] # ini list\n",
        "angkanp = np.array(angka)\n",
        "print(type(angkanp))\n",
        "\n",
        "angkanp*3"
      ]
    },
    {
      "cell_type": "code",
      "execution_count": 3,
      "metadata": {
        "colab": {
          "base_uri": "https://localhost:8080/"
        },
        "id": "vaq3Lm_mF_BH",
        "outputId": "f26f3769-e5b1-4129-9e29-5268ad924606"
      },
      "outputs": [
        {
          "data": {
            "text/plain": [
              "array([[1, 2, 3],\n",
              "       [4, 5, 6],\n",
              "       [7, 8, 9]])"
            ]
          },
          "execution_count": 3,
          "metadata": {},
          "output_type": "execute_result"
        }
      ],
      "source": [
        "list2D = [[1,2,3],[4,5,6],[7,8,9]]\n",
        "array2D = np.array(list2D)\n",
        "\n",
        "array2D"
      ]
    },
    {
      "cell_type": "code",
      "execution_count": 4,
      "metadata": {
        "colab": {
          "base_uri": "https://localhost:8080/"
        },
        "id": "zUQxJJ58JvKt",
        "outputId": "3d16f651-5c0e-47f9-c2ac-7a7b413d9ad6"
      },
      "outputs": [
        {
          "data": {
            "text/plain": [
              "array([1, 2, 3, 4, 5, 6, 7, 8, 9])"
            ]
          },
          "execution_count": 4,
          "metadata": {},
          "output_type": "execute_result"
        }
      ],
      "source": [
        "# Np Arange\n",
        "arange = np.arange(1,10) #start, end\n",
        "arange"
      ]
    },
    {
      "cell_type": "code",
      "execution_count": 5,
      "metadata": {
        "colab": {
          "base_uri": "https://localhost:8080/"
        },
        "id": "gs2FFMQoKKWh",
        "outputId": "0020731c-b6ce-44c0-9c95-4391d67aa93d"
      },
      "outputs": [
        {
          "data": {
            "text/plain": [
              "array([0., 0., 0., 0., 0.])"
            ]
          },
          "execution_count": 5,
          "metadata": {},
          "output_type": "execute_result"
        }
      ],
      "source": [
        "#Np zeros\n",
        "zeros = np.zeros(5)\n",
        "zeros"
      ]
    },
    {
      "cell_type": "code",
      "execution_count": 6,
      "metadata": {
        "colab": {
          "base_uri": "https://localhost:8080/"
        },
        "id": "logC9i92KhmK",
        "outputId": "d2d59009-4805-470e-f16a-7d66e5726c11"
      },
      "outputs": [
        {
          "data": {
            "text/plain": [
              "array([[1., 1., 1., 1.],\n",
              "       [1., 1., 1., 1.]])"
            ]
          },
          "execution_count": 6,
          "metadata": {},
          "output_type": "execute_result"
        }
      ],
      "source": [
        "#Np ones baris x kolom\n",
        "np.ones((2,4)) #kurung double"
      ]
    },
    {
      "cell_type": "code",
      "execution_count": 7,
      "metadata": {
        "colab": {
          "base_uri": "https://localhost:8080/"
        },
        "id": "2InQkXjEKl7M",
        "outputId": "fb814513-2351-451a-d1ad-2c94bf2987fe"
      },
      "outputs": [
        {
          "data": {
            "text/plain": [
              "array([ 1.        ,  3.11111111,  5.22222222,  7.33333333,  9.44444444,\n",
              "       11.55555556, 13.66666667, 15.77777778, 17.88888889, 20.        ])"
            ]
          },
          "execution_count": 7,
          "metadata": {},
          "output_type": "execute_result"
        }
      ],
      "source": [
        "#Np linspace start, end (include), dibagi jadi berapa\n",
        "np.linspace(1,20,10)"
      ]
    },
    {
      "cell_type": "code",
      "execution_count": 8,
      "metadata": {
        "colab": {
          "base_uri": "https://localhost:8080/"
        },
        "id": "H3OyVxxyK5pY",
        "outputId": "10fcdbea-67a9-44f8-c7f9-d6e196735488"
      },
      "outputs": [
        {
          "data": {
            "text/plain": [
              "array([[1., 0., 0.],\n",
              "       [0., 1., 0.],\n",
              "       [0., 0., 1.]])"
            ]
          },
          "execution_count": 8,
          "metadata": {},
          "output_type": "execute_result"
        }
      ],
      "source": [
        "#identity matrix diagonalnya 1\n",
        "np.eye(3)"
      ]
    },
    {
      "attachments": {},
      "cell_type": "markdown",
      "metadata": {
        "id": "bLt0oDSOMRGZ"
      },
      "source": [
        "# PART 2: RAND, RANDN, RANDINT, RESHAPE, ARGMAX, INDEXING 1D, SLICING 2D"
      ]
    },
    {
      "cell_type": "code",
      "execution_count": 9,
      "metadata": {
        "colab": {
          "base_uri": "https://localhost:8080/"
        },
        "id": "RMZhByE1MV8N",
        "outputId": "256dbceb-4bed-446f-ec48-28ba89dcf231"
      },
      "outputs": [
        {
          "data": {
            "text/plain": [
              "array([0.39110452, 0.47246659, 0.57087749, 0.81850076, 0.80094806,\n",
              "       0.97145257, 0.1921692 ])"
            ]
          },
          "execution_count": 9,
          "metadata": {},
          "output_type": "execute_result"
        }
      ],
      "source": [
        "# Bilangan distribusi uniform dari 0 - 1 (RAND)\n",
        "np.random.rand(7)"
      ]
    },
    {
      "cell_type": "code",
      "execution_count": 10,
      "metadata": {
        "colab": {
          "base_uri": "https://localhost:8080/"
        },
        "id": "jvXVG0VRMe9b",
        "outputId": "1d1c3b81-c7e4-4e1a-9b26-80f9c461be28"
      },
      "outputs": [
        {
          "data": {
            "text/plain": [
              "array([[0.19878997, 0.8141067 , 0.18552762, 0.443214  ],\n",
              "       [0.81751906, 0.91397763, 0.87309471, 0.88362241],\n",
              "       [0.58758109, 0.39276599, 0.94677557, 0.35461201],\n",
              "       [0.43077815, 0.3378346 , 0.18978019, 0.55250444],\n",
              "       [0.06407032, 0.37165141, 0.74056518, 0.2355108 ]])"
            ]
          },
          "execution_count": 10,
          "metadata": {},
          "output_type": "execute_result"
        }
      ],
      "source": [
        "np.random.rand(5,4) # baris x kolom"
      ]
    },
    {
      "cell_type": "code",
      "execution_count": 11,
      "metadata": {
        "colab": {
          "base_uri": "https://localhost:8080/"
        },
        "id": "jG5Sxsm6Mrqa",
        "outputId": "448648ee-d427-4706-d871-5d88fecb9cbc"
      },
      "outputs": [
        {
          "data": {
            "text/plain": [
              "array([[-0.42093209,  0.33745245, -0.45694916, -0.17303626],\n",
              "       [-0.2925248 , -0.30457474, -0.86023222,  0.27017232]])"
            ]
          },
          "execution_count": 11,
          "metadata": {},
          "output_type": "execute_result"
        }
      ],
      "source": [
        "# Distribusi normal (gaussian) (RANDN)\n",
        "np.random.randn(2,4)"
      ]
    },
    {
      "cell_type": "code",
      "execution_count": 12,
      "metadata": {
        "colab": {
          "base_uri": "https://localhost:8080/"
        },
        "id": "h5V_vmbqM9Da",
        "outputId": "458892cc-c53b-4eee-e64f-1fb91e2c1326"
      },
      "outputs": [
        {
          "data": {
            "text/plain": [
              "array([[ 2,  7,  4,  9],\n",
              "       [ 1,  1,  3,  7],\n",
              "       [ 1,  4,  6,  1],\n",
              "       [ 6,  3,  9, 10],\n",
              "       [ 7,  4,  1,  9]])"
            ]
          },
          "execution_count": 12,
          "metadata": {},
          "output_type": "execute_result"
        }
      ],
      "source": [
        "# Random integer (RANDINT)\n",
        "randint = np.random.randint(1,11,20) #start, end (not included), berapa jumlahnya\n",
        "randint = randint.reshape(5,4) # harus di definisikan ulang supaya reshape nya berhasil\n",
        "randint.reshape(4,5) # kalau cuman seperti ini cuman menunjukkan ilustrasi\n",
        "randint"
      ]
    },
    {
      "cell_type": "code",
      "execution_count": 13,
      "metadata": {
        "colab": {
          "base_uri": "https://localhost:8080/"
        },
        "id": "oqBeDNhXNZ8D",
        "outputId": "02ac9392-f85a-4d18-bbe4-cc04ed88fbca"
      },
      "outputs": [
        {
          "data": {
            "text/plain": [
              "array([[ 2,  7,  4,  9,  1,  1,  3,  7,  1,  4],\n",
              "       [ 6,  1,  6,  3,  9, 10,  7,  4,  1,  9]])"
            ]
          },
          "execution_count": 13,
          "metadata": {},
          "output_type": "execute_result"
        }
      ],
      "source": [
        "randint2 = randint.reshape(2,10)\n",
        "randint2"
      ]
    },
    {
      "cell_type": "code",
      "execution_count": 14,
      "metadata": {
        "id": "6FrqommJOYtG"
      },
      "outputs": [],
      "source": [
        "coba1d = np.random.randint(1,100,20)\n",
        "coba2d = np.random.randint(1,100,20).reshape(4,5)"
      ]
    },
    {
      "cell_type": "code",
      "execution_count": 15,
      "metadata": {
        "colab": {
          "base_uri": "https://localhost:8080/"
        },
        "id": "lww6j-UpPePB",
        "outputId": "62d09db7-7d2f-429e-b15c-4aae6d5a7c3c"
      },
      "outputs": [
        {
          "data": {
            "text/plain": [
              "array([19, 40,  5, 27, 66, 90, 40, 52, 36, 58, 82, 51, 75, 94, 53, 50, 60,\n",
              "       43, 65, 28])"
            ]
          },
          "execution_count": 15,
          "metadata": {},
          "output_type": "execute_result"
        }
      ],
      "source": [
        "coba1d"
      ]
    },
    {
      "cell_type": "code",
      "execution_count": 16,
      "metadata": {
        "colab": {
          "base_uri": "https://localhost:8080/"
        },
        "id": "X4v0NBwBPoq1",
        "outputId": "07a7d9a4-7092-4628-e41a-0a244cd84d90"
      },
      "outputs": [
        {
          "data": {
            "text/plain": [
              "94"
            ]
          },
          "execution_count": 16,
          "metadata": {},
          "output_type": "execute_result"
        }
      ],
      "source": [
        "coba1d.max()"
      ]
    },
    {
      "cell_type": "code",
      "execution_count": 17,
      "metadata": {
        "colab": {
          "base_uri": "https://localhost:8080/"
        },
        "id": "TBj5_pb3PqXy",
        "outputId": "99986161-8e70-402d-99a6-86626408ffdf"
      },
      "outputs": [
        {
          "data": {
            "text/plain": [
              "array([[ 9, 78, 79, 15, 20],\n",
              "       [80, 42, 57, 14, 98],\n",
              "       [40, 36, 84, 68, 79],\n",
              "       [59, 78, 21, 80, 89]])"
            ]
          },
          "execution_count": 17,
          "metadata": {},
          "output_type": "execute_result"
        }
      ],
      "source": [
        "coba2d"
      ]
    },
    {
      "cell_type": "code",
      "execution_count": 18,
      "metadata": {
        "colab": {
          "base_uri": "https://localhost:8080/"
        },
        "id": "_hLDlkcTPsUk",
        "outputId": "c12d0fe8-0cea-47a4-f4ee-b74b58e81450"
      },
      "outputs": [
        {
          "data": {
            "text/plain": [
              "98"
            ]
          },
          "execution_count": 18,
          "metadata": {},
          "output_type": "execute_result"
        }
      ],
      "source": [
        "coba2d.max()"
      ]
    },
    {
      "cell_type": "code",
      "execution_count": 19,
      "metadata": {
        "colab": {
          "base_uri": "https://localhost:8080/"
        },
        "id": "QrR4-t6qPtdc",
        "outputId": "2653f29c-8fe4-4ef7-a2ef-e9d0872f395e"
      },
      "outputs": [
        {
          "data": {
            "text/plain": [
              "13"
            ]
          },
          "execution_count": 19,
          "metadata": {},
          "output_type": "execute_result"
        }
      ],
      "source": [
        "# argmax untuk mencari index value terbesar (index mulai dari 0)\n",
        "coba1d.argmax()"
      ]
    },
    {
      "cell_type": "code",
      "execution_count": 20,
      "metadata": {
        "colab": {
          "base_uri": "https://localhost:8080/"
        },
        "id": "xiNxJ-BrP4wJ",
        "outputId": "1e9a05dd-e211-47d2-de56-535aed5d2f8d"
      },
      "outputs": [
        {
          "data": {
            "text/plain": [
              "9"
            ]
          },
          "execution_count": 20,
          "metadata": {},
          "output_type": "execute_result"
        }
      ],
      "source": [
        "# argmax 2d dihitung mendatar bukan baris x kolom. dihitung dari pojok kiri atas\n",
        "coba2d.argmax()"
      ]
    },
    {
      "cell_type": "code",
      "execution_count": 21,
      "metadata": {
        "colab": {
          "base_uri": "https://localhost:8080/"
        },
        "id": "iCY3DKFHQAvy",
        "outputId": "61059e8c-b001-41f1-a6de-650a0cedbb34"
      },
      "outputs": [
        {
          "data": {
            "text/plain": [
              "(20,)"
            ]
          },
          "execution_count": 21,
          "metadata": {},
          "output_type": "execute_result"
        }
      ],
      "source": [
        "# shape tanpa tanda kurung\n",
        "coba1d.shape"
      ]
    },
    {
      "cell_type": "code",
      "execution_count": 22,
      "metadata": {
        "colab": {
          "base_uri": "https://localhost:8080/"
        },
        "id": "Pych6W0kQSIS",
        "outputId": "61f13cf7-a0e5-4355-b7e8-8e59974f547f"
      },
      "outputs": [
        {
          "data": {
            "text/plain": [
              "array([ 0,  1,  2,  3,  4,  5,  6,  7,  8,  9, 10])"
            ]
          },
          "execution_count": 22,
          "metadata": {},
          "output_type": "execute_result"
        }
      ],
      "source": [
        "arrayX = np.arange(0,11)\n",
        "array_X_copy = arrayX.copy() # selalu pakai copy ketika mau mengubah array supaya aman\n",
        "arrayX"
      ]
    },
    {
      "cell_type": "code",
      "execution_count": 23,
      "metadata": {
        "colab": {
          "base_uri": "https://localhost:8080/"
        },
        "id": "-bq1pbOIa1r3",
        "outputId": "5f849219-bd52-498e-91f9-09c308015474"
      },
      "outputs": [
        {
          "data": {
            "text/plain": [
              "array([0, 1, 2, 3, 4, 5])"
            ]
          },
          "execution_count": 23,
          "metadata": {},
          "output_type": "execute_result"
        }
      ],
      "source": [
        "# indexing\n",
        "arrayX2 = arrayX[:6]\n",
        "arrayX2"
      ]
    },
    {
      "cell_type": "code",
      "execution_count": 24,
      "metadata": {
        "id": "cfWTIBnCbUNr"
      },
      "outputs": [],
      "source": [
        "arrayX2[:] = 100"
      ]
    },
    {
      "cell_type": "code",
      "execution_count": 25,
      "metadata": {
        "colab": {
          "base_uri": "https://localhost:8080/"
        },
        "id": "PBEa_LKlbqrC",
        "outputId": "52d6a6f0-4136-4f6e-b094-67e21cf3497c"
      },
      "outputs": [
        {
          "data": {
            "text/plain": [
              "array([100, 100, 100, 100, 100, 100,   6,   7,   8,   9,  10])"
            ]
          },
          "execution_count": 25,
          "metadata": {},
          "output_type": "execute_result"
        }
      ],
      "source": [
        "# hati hati slicing Array Numpy karena akan nge link dengan array sebelumnya\n",
        "# index 0-5 jadi 100 value nya \n",
        "arrayX"
      ]
    },
    {
      "cell_type": "code",
      "execution_count": 26,
      "metadata": {
        "colab": {
          "base_uri": "https://localhost:8080/"
        },
        "id": "IrJQkapWbsNU",
        "outputId": "1b53d957-b03b-4ff5-9ca7-0123f1300e7d"
      },
      "outputs": [
        {
          "data": {
            "text/plain": [
              "array([ 0,  1,  2,  3,  4,  5,  6,  7,  8,  9, 10])"
            ]
          },
          "execution_count": 26,
          "metadata": {},
          "output_type": "execute_result"
        }
      ],
      "source": [
        "array_X_copy"
      ]
    },
    {
      "cell_type": "code",
      "execution_count": 27,
      "metadata": {
        "colab": {
          "base_uri": "https://localhost:8080/"
        },
        "id": "FaI9ZlbscP80",
        "outputId": "b5ff3bef-03d0-49a6-b985-fe00d0538678"
      },
      "outputs": [
        {
          "data": {
            "text/plain": [
              "array([[1, 2, 3],\n",
              "       [4, 5, 6]])"
            ]
          },
          "execution_count": 27,
          "metadata": {},
          "output_type": "execute_result"
        }
      ],
      "source": [
        "# slicing array 2d\n",
        "list = [[1,2,3],[4,5,6]]\n",
        "array2d_list = np.array(list)\n",
        "array2d_list"
      ]
    },
    {
      "cell_type": "code",
      "execution_count": 28,
      "metadata": {
        "colab": {
          "base_uri": "https://localhost:8080/"
        },
        "id": "t5BJCvjAcviI",
        "outputId": "c9eb425e-5fb3-48b5-d625-e33ab09eb67c"
      },
      "outputs": [
        {
          "data": {
            "text/plain": [
              "6"
            ]
          },
          "execution_count": 28,
          "metadata": {},
          "output_type": "execute_result"
        }
      ],
      "source": [
        "array2d_list[1,2]"
      ]
    },
    {
      "cell_type": "code",
      "execution_count": 29,
      "metadata": {
        "colab": {
          "base_uri": "https://localhost:8080/"
        },
        "id": "gjfKcjFzc4fK",
        "outputId": "57217a34-c314-42db-a527-3324c067d44c"
      },
      "outputs": [
        {
          "data": {
            "text/plain": [
              "array([[5, 6]])"
            ]
          },
          "execution_count": 29,
          "metadata": {},
          "output_type": "execute_result"
        }
      ],
      "source": [
        "array2d_list[1:2,1:]"
      ]
    },
    {
      "attachments": {},
      "cell_type": "markdown",
      "metadata": {
        "id": "ydqvh5pgeCsL"
      },
      "source": [
        "# PART 3: OPERASI MATEMATIKA"
      ]
    },
    {
      "cell_type": "code",
      "execution_count": 30,
      "metadata": {
        "colab": {
          "base_uri": "https://localhost:8080/"
        },
        "id": "qioF60CfeI0z",
        "outputId": "155f0744-1ed2-4f2f-8005-877c372c6716"
      },
      "outputs": [
        {
          "data": {
            "text/plain": [
              "array([ 0,  1,  2,  3,  4,  5,  6,  7,  8,  9, 10])"
            ]
          },
          "execution_count": 30,
          "metadata": {},
          "output_type": "execute_result"
        }
      ],
      "source": [
        "array_y = np.arange(0,11)\n",
        "array_y"
      ]
    },
    {
      "cell_type": "code",
      "execution_count": 31,
      "metadata": {
        "colab": {
          "base_uri": "https://localhost:8080/"
        },
        "id": "G1zg3ENgeWXt",
        "outputId": "c04fc5f9-78bd-40cf-9a94-732dd4f22bd4"
      },
      "outputs": [
        {
          "data": {
            "text/plain": [
              "array([ 5,  6,  7,  8,  9, 10, 11, 12, 13, 14, 15])"
            ]
          },
          "execution_count": 31,
          "metadata": {},
          "output_type": "execute_result"
        }
      ],
      "source": [
        "array_y + 5 # INGAT KALAU SEPERTI INI PREVIEW SAJA KARENA BELUM DI ASSIGN VARIABLE"
      ]
    },
    {
      "cell_type": "code",
      "execution_count": 32,
      "metadata": {
        "colab": {
          "base_uri": "https://localhost:8080/"
        },
        "id": "Gv0vsNZceZ7u",
        "outputId": "c482e86e-8045-418a-9887-a236d8cb3214"
      },
      "outputs": [
        {
          "data": {
            "text/plain": [
              "[1, 2, 3, 1, 2, 3]"
            ]
          },
          "execution_count": 32,
          "metadata": {},
          "output_type": "execute_result"
        }
      ],
      "source": [
        "listA = [1,2,3]\n",
        "listA + listA"
      ]
    },
    {
      "cell_type": "code",
      "execution_count": 33,
      "metadata": {
        "colab": {
          "base_uri": "https://localhost:8080/"
        },
        "id": "pZ8TKOMTestb",
        "outputId": "e26f989b-e964-4d8d-9396-aee7fea76078"
      },
      "outputs": [
        {
          "data": {
            "text/plain": [
              "array([2, 4, 6])"
            ]
          },
          "execution_count": 33,
          "metadata": {},
          "output_type": "execute_result"
        }
      ],
      "source": [
        "array_listA = np.array(listA)\n",
        "array_listA + array_listA"
      ]
    },
    {
      "cell_type": "code",
      "execution_count": 34,
      "metadata": {
        "colab": {
          "base_uri": "https://localhost:8080/"
        },
        "id": "iX9IzfYKe4mC",
        "outputId": "e2edf184-8d87-4fdd-c6c1-b4284a4d5901"
      },
      "outputs": [
        {
          "name": "stderr",
          "output_type": "stream",
          "text": [
            "<ipython-input-34-2d309d5d78fd>:1: RuntimeWarning: divide by zero encountered in true_divide\n",
            "  1/array_y # ADA WARNING TAPI TETAP DI EKSEKUSI SELAGI ADA NILAI YANG BISA DIOLAH\n"
          ]
        },
        {
          "data": {
            "text/plain": [
              "array([       inf, 1.        , 0.5       , 0.33333333, 0.25      ,\n",
              "       0.2       , 0.16666667, 0.14285714, 0.125     , 0.11111111,\n",
              "       0.1       ])"
            ]
          },
          "execution_count": 34,
          "metadata": {},
          "output_type": "execute_result"
        }
      ],
      "source": [
        "1/array_y # ADA WARNING TAPI TETAP DI EKSEKUSI SELAGI ADA NILAI YANG BISA DIOLAH"
      ]
    },
    {
      "cell_type": "code",
      "execution_count": 35,
      "metadata": {
        "colab": {
          "base_uri": "https://localhost:8080/"
        },
        "id": "gJEZkoCvfYiQ",
        "outputId": "26d6e92c-cad9-4818-d66d-6245ec96fa52"
      },
      "outputs": [
        {
          "data": {
            "text/plain": [
              "array([0.        , 1.        , 1.41421356, 1.73205081, 2.        ,\n",
              "       2.23606798, 2.44948974, 2.64575131, 2.82842712, 3.        ,\n",
              "       3.16227766])"
            ]
          },
          "execution_count": 35,
          "metadata": {},
          "output_type": "execute_result"
        }
      ],
      "source": [
        "np.sqrt(array_y)"
      ]
    },
    {
      "cell_type": "code",
      "execution_count": 36,
      "metadata": {
        "colab": {
          "base_uri": "https://localhost:8080/"
        },
        "id": "4Hj2v13BfkWi",
        "outputId": "67a89f95-e821-4355-fc6a-8d07145ae551"
      },
      "outputs": [
        {
          "data": {
            "text/plain": [
              "array([1.00000000e+00, 2.71828183e+00, 7.38905610e+00, 2.00855369e+01,\n",
              "       5.45981500e+01, 1.48413159e+02, 4.03428793e+02, 1.09663316e+03,\n",
              "       2.98095799e+03, 8.10308393e+03, 2.20264658e+04])"
            ]
          },
          "execution_count": 36,
          "metadata": {},
          "output_type": "execute_result"
        }
      ],
      "source": [
        "np.exp(array_y) # bilangan pangkat e"
      ]
    },
    {
      "cell_type": "code",
      "execution_count": 37,
      "metadata": {
        "colab": {
          "base_uri": "https://localhost:8080/"
        },
        "id": "xPiBIGoWftTn",
        "outputId": "c48aa964-b7ea-4973-860c-d2aba990b46e"
      },
      "outputs": [
        {
          "data": {
            "text/plain": [
              "10"
            ]
          },
          "execution_count": 37,
          "metadata": {},
          "output_type": "execute_result"
        }
      ],
      "source": [
        "array_y.max() # INI FUNGSI NUMPY MAX"
      ]
    },
    {
      "cell_type": "code",
      "execution_count": 38,
      "metadata": {
        "colab": {
          "base_uri": "https://localhost:8080/"
        },
        "id": "wraxaSXYf5iy",
        "outputId": "55b5f938-04ac-49b0-8186-eb6800ff8b76"
      },
      "outputs": [
        {
          "data": {
            "text/plain": [
              "0"
            ]
          },
          "execution_count": 38,
          "metadata": {},
          "output_type": "execute_result"
        }
      ],
      "source": [
        "array_y.min()"
      ]
    },
    {
      "cell_type": "code",
      "execution_count": null,
      "metadata": {
        "id": "wPtBYLVugHYU"
      },
      "outputs": [],
      "source": []
    }
  ],
  "metadata": {
    "colab": {
      "collapsed_sections": [
        "dStP2E75LpNw",
        "bLt0oDSOMRGZ"
      ],
      "provenance": []
    },
    "kernelspec": {
      "display_name": "Python 3",
      "name": "python3"
    },
    "language_info": {
      "codemirror_mode": {
        "name": "ipython",
        "version": 3
      },
      "file_extension": ".py",
      "mimetype": "text/x-python",
      "name": "python",
      "nbconvert_exporter": "python",
      "pygments_lexer": "ipython3",
      "version": "3.8.8"
    }
  },
  "nbformat": 4,
  "nbformat_minor": 0
}
